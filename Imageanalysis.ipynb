{
  "nbformat": 4,
  "nbformat_minor": 0,
  "metadata": {
    "colab": {
      "provenance": []
    },
    "kernelspec": {
      "name": "python3",
      "display_name": "Python 3"
    },
    "language_info": {
      "name": "python"
    }
  },
  "cells": [
    {
      "cell_type": "code",
      "execution_count": null,
      "metadata": {
        "id": "c3FaAHKPBnWL"
      },
      "outputs": [],
      "source": [
        "import tensorflow as tf\n",
        "from tensorflow.keras.models import Model\n",
        "from sklearn.model_selection import train_test_split\n",
        "from sklearn.svm import SVC\n",
        "from sklearn.metrics import accuracy_score, f1_score, precision_score, recall_score\n"
      ]
    },
    {
      "cell_type": "code",
      "source": [
        "# Loading dataset\n",
        "(X_tr, y_tr), (X_te, y_te) = tf.keras.datasets.cifar10.load_data()\n"
      ],
      "metadata": {
        "id": "fDBTTnGlHRxD"
      },
      "execution_count": null,
      "outputs": []
    },
    {
      "cell_type": "code",
      "source": [
        "# Filter out cats,dogs based on classes\n",
        "train_mask = (y_tr == 3) | (y_tr == 5)\n",
        "X_tr, y_tr = X_tr[train_mask.squeeze()], y_tr[train_mask.squeeze()]\n"
      ],
      "metadata": {
        "id": "kl6DoqieI37s"
      },
      "execution_count": null,
      "outputs": []
    },
    {
      "cell_type": "code",
      "source": [
        "test_mask = (y_te == 3) | (y_te == 5)\n",
        "X_te, y_te = X_te[test_mask.squeeze()], y_te[test_mask.squeeze()]\n"
      ],
      "metadata": {
        "id": "1qHGwLB9HnuT"
      },
      "execution_count": null,
      "outputs": []
    },
    {
      "cell_type": "code",
      "source": [
        "#  labeling 0 for cats, 1 for dogs\n",
        "y_tr = (y_tr == 5).astype(int)\n",
        "y_te = (y_te == 5).astype(int)"
      ],
      "metadata": {
        "id": "rwJqvMzC-m4G"
      },
      "execution_count": null,
      "outputs": []
    },
    {
      "cell_type": "code",
      "source": [
        "# Normalizing the  data\n",
        "X_tr = X_tr.astype(\"float32\") / 255\n",
        "X_te = X_te.astype(\"float32\") / 255\n"
      ],
      "metadata": {
        "id": "F8sXLvBl-m06"
      },
      "execution_count": null,
      "outputs": []
    },
    {
      "cell_type": "code",
      "source": [
        "#  scratch CNN model \n",
        "model = tf.keras.Sequential([\n",
        "    tf.keras.layers.Conv2D(32, (3, 3), activation='relu', input_shape=(32, 32, 3)),\n",
        "    tf.keras.layers.MaxPooling2D(pool_size=(2, 2)),\n",
        "    tf.keras.layers.Conv2D(64, (3, 3), activation='relu'),\n",
        "    tf.keras.layers.MaxPooling2D(pool_size=(2, 2)),\n",
        "    tf.keras.layers.Conv2D(128, (3, 3), activation='relu'),\n",
        "    tf.keras.layers.MaxPooling2D(pool_size=(2, 2)),\n",
        "    tf.keras.layers.Flatten(),\n",
        "    tf.keras.layers.Dense(256, activation='relu', name='feature_extraction'),\n",
        "    tf.keras.layers.Dropout(0.5),\n",
        "    tf.keras.layers.Dense(1, activation='sigmoid')\n",
        "])\n"
      ],
      "metadata": {
        "id": "X5wEvma6-2cA"
      },
      "execution_count": null,
      "outputs": []
    },
    {
      "cell_type": "code",
      "source": [
        "# Compiling the model\n",
        "model.compile(optimizer='adam', loss='binary_crossentropy', metrics=['accuracy'])\n"
      ],
      "metadata": {
        "id": "4XC8tIa2-2ee"
      },
      "execution_count": null,
      "outputs": []
    },
    {
      "cell_type": "code",
      "source": [
        "# Training the model\n",
        "model.fit(X_tr, y_tr, epochs=20, validation_data=(X_te, y_te))\n"
      ],
      "metadata": {
        "colab": {
          "base_uri": "https://localhost:8080/"
        },
        "id": "huXDLFyI-2h3",
        "outputId": "18486d06-a77f-4eeb-c3c3-507d771aa6d1"
      },
      "execution_count": null,
      "outputs": [
        {
          "output_type": "stream",
          "name": "stdout",
          "text": [
            "Epoch 1/20\n",
            "313/313 [==============================] - 36s 93ms/step - loss: 0.6703 - accuracy: 0.5765 - val_loss: 0.6258 - val_accuracy: 0.6370\n",
            "Epoch 2/20\n",
            "313/313 [==============================] - 19s 62ms/step - loss: 0.5935 - accuracy: 0.6819 - val_loss: 0.5601 - val_accuracy: 0.7015\n",
            "Epoch 3/20\n",
            "313/313 [==============================] - 20s 63ms/step - loss: 0.5372 - accuracy: 0.7273 - val_loss: 0.5250 - val_accuracy: 0.7370\n",
            "Epoch 4/20\n",
            "313/313 [==============================] - 22s 72ms/step - loss: 0.4915 - accuracy: 0.7591 - val_loss: 0.5160 - val_accuracy: 0.7495\n",
            "Epoch 5/20\n",
            "313/313 [==============================] - 20s 63ms/step - loss: 0.4484 - accuracy: 0.7832 - val_loss: 0.4901 - val_accuracy: 0.7645\n",
            "Epoch 6/20\n",
            "313/313 [==============================] - 20s 64ms/step - loss: 0.4036 - accuracy: 0.8147 - val_loss: 0.5031 - val_accuracy: 0.7600\n",
            "Epoch 7/20\n",
            "313/313 [==============================] - 22s 71ms/step - loss: 0.3590 - accuracy: 0.8391 - val_loss: 0.4950 - val_accuracy: 0.7765\n",
            "Epoch 8/20\n",
            "313/313 [==============================] - 23s 73ms/step - loss: 0.3106 - accuracy: 0.8629 - val_loss: 0.5427 - val_accuracy: 0.7540\n",
            "Epoch 9/20\n",
            "313/313 [==============================] - 19s 62ms/step - loss: 0.2646 - accuracy: 0.8895 - val_loss: 0.5431 - val_accuracy: 0.7750\n",
            "Epoch 10/20\n",
            "313/313 [==============================] - 21s 68ms/step - loss: 0.2174 - accuracy: 0.9088 - val_loss: 0.5478 - val_accuracy: 0.7700\n",
            "Epoch 11/20\n",
            "313/313 [==============================] - 19s 61ms/step - loss: 0.1747 - accuracy: 0.9284 - val_loss: 0.7199 - val_accuracy: 0.7465\n",
            "Epoch 12/20\n",
            "313/313 [==============================] - 19s 62ms/step - loss: 0.1438 - accuracy: 0.9427 - val_loss: 0.7282 - val_accuracy: 0.7625\n",
            "Epoch 13/20\n",
            "313/313 [==============================] - 19s 61ms/step - loss: 0.1224 - accuracy: 0.9522 - val_loss: 0.8190 - val_accuracy: 0.7605\n",
            "Epoch 14/20\n",
            "313/313 [==============================] - 21s 66ms/step - loss: 0.1110 - accuracy: 0.9576 - val_loss: 0.8543 - val_accuracy: 0.7565\n",
            "Epoch 15/20\n",
            "313/313 [==============================] - 19s 61ms/step - loss: 0.0744 - accuracy: 0.9711 - val_loss: 0.9189 - val_accuracy: 0.7575\n",
            "Epoch 16/20\n",
            "313/313 [==============================] - 20s 64ms/step - loss: 0.0661 - accuracy: 0.9766 - val_loss: 1.0776 - val_accuracy: 0.7495\n",
            "Epoch 17/20\n",
            "313/313 [==============================] - 21s 69ms/step - loss: 0.0660 - accuracy: 0.9755 - val_loss: 1.1171 - val_accuracy: 0.7465\n",
            "Epoch 18/20\n",
            "313/313 [==============================] - 20s 63ms/step - loss: 0.0603 - accuracy: 0.9776 - val_loss: 1.1720 - val_accuracy: 0.7600\n",
            "Epoch 19/20\n",
            "313/313 [==============================] - 22s 70ms/step - loss: 0.0561 - accuracy: 0.9795 - val_loss: 1.1899 - val_accuracy: 0.7585\n",
            "Epoch 20/20\n",
            "313/313 [==============================] - 21s 67ms/step - loss: 0.0435 - accuracy: 0.9840 - val_loss: 1.2601 - val_accuracy: 0.7570\n"
          ]
        },
        {
          "output_type": "execute_result",
          "data": {
            "text/plain": [
              "<keras.callbacks.History at 0x7f67a5a16050>"
            ]
          },
          "metadata": {},
          "execution_count": 9
        }
      ]
    },
    {
      "cell_type": "code",
      "source": [
        "# Extracting  features from fully connected layers\n",
        "feature_extractor = Model(inputs=model.input, outputs=model.get_layer('feature_extraction').output)\n",
        "X_tr_feat = feature_extractor.predict(X_tr)\n",
        "X_te_feat = feature_extractor.predict(X_te)\n"
      ],
      "metadata": {
        "colab": {
          "base_uri": "https://localhost:8080/"
        },
        "id": "O0Wy4Yaa-9ba",
        "outputId": "7552df48-c722-4b86-da40-18ff279ead77"
      },
      "execution_count": null,
      "outputs": [
        {
          "output_type": "stream",
          "name": "stdout",
          "text": [
            "313/313 [==============================] - 6s 19ms/step\n",
            "63/63 [==============================] - 1s 15ms/step\n"
          ]
        }
      ]
    },
    {
      "cell_type": "code",
      "source": [
        "# Evaluation of the model CNN\n",
        "y_pred_cnn = (model.predict(X_te) > 0.5).astype(\"int32\")\n",
        "accuracy_cnn = accuracy_score(y_te, y_pred_cnn)\n",
        "f1_cnn = f1_score(y_te, y_pred_cnn)\n",
        "precision_cnn = precision_score(y_te, y_pred_cnn)\n",
        "recall_cnn = recall_score(y_te, y_pred_cnn)"
      ],
      "metadata": {
        "colab": {
          "base_uri": "https://localhost:8080/"
        },
        "id": "c0Ug2W39cpsY",
        "outputId": "727f3552-f136-4234-e577-5a92df570af0"
      },
      "execution_count": null,
      "outputs": [
        {
          "output_type": "stream",
          "name": "stdout",
          "text": [
            "63/63 [==============================] - 1s 16ms/step\n"
          ]
        }
      ]
    },
    {
      "cell_type": "code",
      "source": [
        "print(\"CNN:\")\n",
        "print(\"Accuracy: \", accuracy_cnn)\n",
        "print(\"F1 Score: \", f1_cnn)\n",
        "print(\"Precision: \", precision_cnn)\n",
        "print(\"Recall: \", recall_cnn)"
      ],
      "metadata": {
        "colab": {
          "base_uri": "https://localhost:8080/"
        },
        "id": "j43rIn3Tcx51",
        "outputId": "03ee012e-7c60-4de1-937b-53f90a6a0c74"
      },
      "execution_count": null,
      "outputs": [
        {
          "output_type": "stream",
          "name": "stdout",
          "text": [
            "CNN:\n",
            "Accuracy:  0.757\n",
            "F1 Score:  0.7460815047021943\n",
            "Precision:  0.7811816192560175\n",
            "Recall:  0.714\n"
          ]
        }
      ]
    },
    {
      "cell_type": "code",
      "source": [
        "# Training SVM with the features obtained\n",
        "svm = SVC(kernel='linear')\n",
        "svm.fit(X_tr_feat, y_tr.ravel())\n"
      ],
      "metadata": {
        "colab": {
          "base_uri": "https://localhost:8080/",
          "height": 74
        },
        "id": "Xp01CvAZ-9fo",
        "outputId": "78459c68-3a77-4c3a-b00c-7ba581f22be0"
      },
      "execution_count": null,
      "outputs": [
        {
          "output_type": "execute_result",
          "data": {
            "text/plain": [
              "SVC(kernel='linear')"
            ],
            "text/html": [
              "<style>#sk-container-id-1 {color: black;background-color: white;}#sk-container-id-1 pre{padding: 0;}#sk-container-id-1 div.sk-toggleable {background-color: white;}#sk-container-id-1 label.sk-toggleable__label {cursor: pointer;display: block;width: 100%;margin-bottom: 0;padding: 0.3em;box-sizing: border-box;text-align: center;}#sk-container-id-1 label.sk-toggleable__label-arrow:before {content: \"▸\";float: left;margin-right: 0.25em;color: #696969;}#sk-container-id-1 label.sk-toggleable__label-arrow:hover:before {color: black;}#sk-container-id-1 div.sk-estimator:hover label.sk-toggleable__label-arrow:before {color: black;}#sk-container-id-1 div.sk-toggleable__content {max-height: 0;max-width: 0;overflow: hidden;text-align: left;background-color: #f0f8ff;}#sk-container-id-1 div.sk-toggleable__content pre {margin: 0.2em;color: black;border-radius: 0.25em;background-color: #f0f8ff;}#sk-container-id-1 input.sk-toggleable__control:checked~div.sk-toggleable__content {max-height: 200px;max-width: 100%;overflow: auto;}#sk-container-id-1 input.sk-toggleable__control:checked~label.sk-toggleable__label-arrow:before {content: \"▾\";}#sk-container-id-1 div.sk-estimator input.sk-toggleable__control:checked~label.sk-toggleable__label {background-color: #d4ebff;}#sk-container-id-1 div.sk-label input.sk-toggleable__control:checked~label.sk-toggleable__label {background-color: #d4ebff;}#sk-container-id-1 input.sk-hidden--visually {border: 0;clip: rect(1px 1px 1px 1px);clip: rect(1px, 1px, 1px, 1px);height: 1px;margin: -1px;overflow: hidden;padding: 0;position: absolute;width: 1px;}#sk-container-id-1 div.sk-estimator {font-family: monospace;background-color: #f0f8ff;border: 1px dotted black;border-radius: 0.25em;box-sizing: border-box;margin-bottom: 0.5em;}#sk-container-id-1 div.sk-estimator:hover {background-color: #d4ebff;}#sk-container-id-1 div.sk-parallel-item::after {content: \"\";width: 100%;border-bottom: 1px solid gray;flex-grow: 1;}#sk-container-id-1 div.sk-label:hover label.sk-toggleable__label {background-color: #d4ebff;}#sk-container-id-1 div.sk-serial::before {content: \"\";position: absolute;border-left: 1px solid gray;box-sizing: border-box;top: 0;bottom: 0;left: 50%;z-index: 0;}#sk-container-id-1 div.sk-serial {display: flex;flex-direction: column;align-items: center;background-color: white;padding-right: 0.2em;padding-left: 0.2em;position: relative;}#sk-container-id-1 div.sk-item {position: relative;z-index: 1;}#sk-container-id-1 div.sk-parallel {display: flex;align-items: stretch;justify-content: center;background-color: white;position: relative;}#sk-container-id-1 div.sk-item::before, #sk-container-id-1 div.sk-parallel-item::before {content: \"\";position: absolute;border-left: 1px solid gray;box-sizing: border-box;top: 0;bottom: 0;left: 50%;z-index: -1;}#sk-container-id-1 div.sk-parallel-item {display: flex;flex-direction: column;z-index: 1;position: relative;background-color: white;}#sk-container-id-1 div.sk-parallel-item:first-child::after {align-self: flex-end;width: 50%;}#sk-container-id-1 div.sk-parallel-item:last-child::after {align-self: flex-start;width: 50%;}#sk-container-id-1 div.sk-parallel-item:only-child::after {width: 0;}#sk-container-id-1 div.sk-dashed-wrapped {border: 1px dashed gray;margin: 0 0.4em 0.5em 0.4em;box-sizing: border-box;padding-bottom: 0.4em;background-color: white;}#sk-container-id-1 div.sk-label label {font-family: monospace;font-weight: bold;display: inline-block;line-height: 1.2em;}#sk-container-id-1 div.sk-label-container {text-align: center;}#sk-container-id-1 div.sk-container {/* jupyter's `normalize.less` sets `[hidden] { display: none; }` but bootstrap.min.css set `[hidden] { display: none !important; }` so we also need the `!important` here to be able to override the default hidden behavior on the sphinx rendered scikit-learn.org. See: https://github.com/scikit-learn/scikit-learn/issues/21755 */display: inline-block !important;position: relative;}#sk-container-id-1 div.sk-text-repr-fallback {display: none;}</style><div id=\"sk-container-id-1\" class=\"sk-top-container\"><div class=\"sk-text-repr-fallback\"><pre>SVC(kernel=&#x27;linear&#x27;)</pre><b>In a Jupyter environment, please rerun this cell to show the HTML representation or trust the notebook. <br />On GitHub, the HTML representation is unable to render, please try loading this page with nbviewer.org.</b></div><div class=\"sk-container\" hidden><div class=\"sk-item\"><div class=\"sk-estimator sk-toggleable\"><input class=\"sk-toggleable__control sk-hidden--visually\" id=\"sk-estimator-id-1\" type=\"checkbox\" checked><label for=\"sk-estimator-id-1\" class=\"sk-toggleable__label sk-toggleable__label-arrow\">SVC</label><div class=\"sk-toggleable__content\"><pre>SVC(kernel=&#x27;linear&#x27;)</pre></div></div></div></div></div>"
            ]
          },
          "metadata": {},
          "execution_count": 13
        }
      ]
    },
    {
      "cell_type": "code",
      "source": [
        "# Evaluating SVM with test data\n",
        "y_pred = svm.predict(X_te_feat)\n",
        "accuracy = accuracy_score(y_te, y_pred)\n",
        "f1 = f1_score(y_te, y_pred)\n",
        "precision = precision_score(y_te, y_pred)\n",
        "recall = recall_score(y_te, y_pred)\n"
      ],
      "metadata": {
        "id": "Fnrf6EQd-9jA"
      },
      "execution_count": null,
      "outputs": []
    },
    {
      "cell_type": "code",
      "source": [
        "print(f\"SVM Accuracy: {accuracy:.2f}\")\n",
        "print(f\"SVM F1 Score: {f1:.2f}\")\n",
        "print(f\"SVM Precision: {precision:.2f}\")\n",
        "print(f\"SVM Recall: {recall:.2f}\")"
      ],
      "metadata": {
        "colab": {
          "base_uri": "https://localhost:8080/"
        },
        "id": "IX5hlJj9_G3M",
        "outputId": "f41cca69-d85e-40b8-a077-25e3bd002659"
      },
      "execution_count": null,
      "outputs": [
        {
          "output_type": "stream",
          "name": "stdout",
          "text": [
            "SVM Accuracy: 0.76\n",
            "SVM F1 Score: 0.76\n",
            "SVM Precision: 0.76\n",
            "SVM Recall: 0.76\n"
          ]
        }
      ]
    }
  ]
}